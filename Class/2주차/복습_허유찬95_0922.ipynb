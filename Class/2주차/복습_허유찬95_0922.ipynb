{
 "cells": [
  {
   "cell_type": "code",
   "execution_count": 1,
   "id": "092b0f44-8c2b-46af-a745-4b571ed176ae",
   "metadata": {},
   "outputs": [],
   "source": [
    "# 라이브러리 불러오기\n",
    "import numpy as np\n",
    "import pandas as pd\n",
    "from sklearn.model_selection import train_test_split\n",
    "from sklearn.linear_model import LinearRegression  \n",
    "from sklearn.metrics import mean_squared_error\n",
    "import matplotlib.pyplot as plt"
   ]
  },
  {
   "cell_type": "code",
   "execution_count": 2,
   "id": "c0a94dc8-69cc-4266-998d-2859d0376a66",
   "metadata": {},
   "outputs": [],
   "source": [
    "## X,y는 독립변수와 종속변수 관계\n",
    "\n",
    "np.random.seed(111)\n",
    "n_samples=1000"
   ]
  },
  {
   "cell_type": "code",
   "execution_count": 7,
   "id": "c2a23914-2048-4c7e-a1f9-eddedb287519",
   "metadata": {},
   "outputs": [],
   "source": [
    "# 특성 Feature 생성\n",
    "\n",
    "X1 = np.random.rand(n_samples) * 100\n",
    "X2 = np.random.rand(n_samples) * 100\n",
    "X3 = np.random.rand(n_samples) * 100\n",
    "X4 = np.random.rand(n_samples) * 100\n",
    "X_noise = np.random.rand(n_samples) * 100 #노이즈\n",
    "\n",
    "# X1, X2는 강하게 의존하는 형태, 나머지는 거의 영향 없음 (y는 X1과 X2에 비례)\n",
    "y = 3 * X1 + 2 * X2 + np.random.randn(n_samples)*10"
   ]
  },
  {
   "cell_type": "code",
   "execution_count": 8,
   "id": "0a9b9bc0-de15-459e-be8e-833ff411031d",
   "metadata": {},
   "outputs": [],
   "source": [
    "df = pd.DataFrame({\n",
    "    'X1':X1,\n",
    "    'X2':X2,\n",
    "    'X3':X3,\n",
    "    'X4':X4,\n",
    "    'X_noise':X_noise,\n",
    "    'y':y\n",
    "})"
   ]
  },
  {
   "cell_type": "code",
   "execution_count": 9,
   "id": "6c18ec0e-bd9b-4a3b-8d73-936dcce948b2",
   "metadata": {},
   "outputs": [
    {
     "data": {
      "text/html": [
       "<div>\n",
       "<style scoped>\n",
       "    .dataframe tbody tr th:only-of-type {\n",
       "        vertical-align: middle;\n",
       "    }\n",
       "\n",
       "    .dataframe tbody tr th {\n",
       "        vertical-align: top;\n",
       "    }\n",
       "\n",
       "    .dataframe thead th {\n",
       "        text-align: right;\n",
       "    }\n",
       "</style>\n",
       "<table border=\"1\" class=\"dataframe\">\n",
       "  <thead>\n",
       "    <tr style=\"text-align: right;\">\n",
       "      <th></th>\n",
       "      <th>X1</th>\n",
       "      <th>X2</th>\n",
       "      <th>X3</th>\n",
       "      <th>X4</th>\n",
       "      <th>X_noise</th>\n",
       "      <th>y</th>\n",
       "    </tr>\n",
       "  </thead>\n",
       "  <tbody>\n",
       "    <tr>\n",
       "      <th>X1</th>\n",
       "      <td>1.000000</td>\n",
       "      <td>-0.010769</td>\n",
       "      <td>0.006631</td>\n",
       "      <td>0.004226</td>\n",
       "      <td>-0.059031</td>\n",
       "      <td>0.830304</td>\n",
       "    </tr>\n",
       "    <tr>\n",
       "      <th>X2</th>\n",
       "      <td>-0.010769</td>\n",
       "      <td>1.000000</td>\n",
       "      <td>-0.025682</td>\n",
       "      <td>-0.009227</td>\n",
       "      <td>0.030495</td>\n",
       "      <td>0.540254</td>\n",
       "    </tr>\n",
       "    <tr>\n",
       "      <th>X3</th>\n",
       "      <td>0.006631</td>\n",
       "      <td>-0.025682</td>\n",
       "      <td>1.000000</td>\n",
       "      <td>0.054634</td>\n",
       "      <td>0.018191</td>\n",
       "      <td>-0.010212</td>\n",
       "    </tr>\n",
       "    <tr>\n",
       "      <th>X4</th>\n",
       "      <td>0.004226</td>\n",
       "      <td>-0.009227</td>\n",
       "      <td>0.054634</td>\n",
       "      <td>1.000000</td>\n",
       "      <td>-0.010967</td>\n",
       "      <td>-0.001881</td>\n",
       "    </tr>\n",
       "    <tr>\n",
       "      <th>X_noise</th>\n",
       "      <td>-0.059031</td>\n",
       "      <td>0.030495</td>\n",
       "      <td>0.018191</td>\n",
       "      <td>-0.010967</td>\n",
       "      <td>1.000000</td>\n",
       "      <td>-0.032196</td>\n",
       "    </tr>\n",
       "    <tr>\n",
       "      <th>y</th>\n",
       "      <td>0.830304</td>\n",
       "      <td>0.540254</td>\n",
       "      <td>-0.010212</td>\n",
       "      <td>-0.001881</td>\n",
       "      <td>-0.032196</td>\n",
       "      <td>1.000000</td>\n",
       "    </tr>\n",
       "  </tbody>\n",
       "</table>\n",
       "</div>"
      ],
      "text/plain": [
       "               X1        X2        X3        X4   X_noise         y\n",
       "X1       1.000000 -0.010769  0.006631  0.004226 -0.059031  0.830304\n",
       "X2      -0.010769  1.000000 -0.025682 -0.009227  0.030495  0.540254\n",
       "X3       0.006631 -0.025682  1.000000  0.054634  0.018191 -0.010212\n",
       "X4       0.004226 -0.009227  0.054634  1.000000 -0.010967 -0.001881\n",
       "X_noise -0.059031  0.030495  0.018191 -0.010967  1.000000 -0.032196\n",
       "y        0.830304  0.540254 -0.010212 -0.001881 -0.032196  1.000000"
      ]
     },
     "execution_count": 9,
     "metadata": {},
     "output_type": "execute_result"
    }
   ],
   "source": [
    "## 상관계수 확인\n",
    "df.corr()"
   ]
  },
  {
   "cell_type": "code",
   "execution_count": 10,
   "id": "7bb2c6de-3f05-49c1-9133-035d04869d91",
   "metadata": {},
   "outputs": [],
   "source": [
    "## corr_matrix 확인\n",
    "corr_matrix = df.corr()['y'].drop('y')"
   ]
  },
  {
   "cell_type": "code",
   "execution_count": 11,
   "id": "fefa1fb2-eac0-44f1-b080-0fa69186a439",
   "metadata": {},
   "outputs": [
    {
     "name": "stdout",
     "output_type": "stream",
     "text": [
      "X1         0.830304\n",
      "X2         0.540254\n",
      "X3        -0.010212\n",
      "X4        -0.001881\n",
      "X_noise   -0.032196\n",
      "Name: y, dtype: float64\n"
     ]
    }
   ],
   "source": [
    "print(corr_matrix)"
   ]
  },
  {
   "cell_type": "code",
   "execution_count": 13,
   "id": "625edb66-7bc7-4cb8-a2c5-6e8c8ebb38e6",
   "metadata": {},
   "outputs": [
    {
     "name": "stdout",
     "output_type": "stream",
     "text": [
      "Index(['X1', 'X2'], dtype='object')\n"
     ]
    }
   ],
   "source": [
    "## 상관계수가 0.5 이상인 특성만 추출\n",
    "threshold = 0.5 ##treshold를 0.5로 설정\n",
    "selected_features = corr_matrix[abs(corr_matrix)>threshold].index\n",
    "\n",
    "print(selected_features)"
   ]
  },
  {
   "cell_type": "code",
   "execution_count": 14,
   "id": "276b8867-60e9-4821-b8fa-84c307a3d8a0",
   "metadata": {},
   "outputs": [
    {
     "name": "stdout",
     "output_type": "stream",
     "text": [
      "mse_selected 95.45729480276263\n"
     ]
    }
   ],
   "source": [
    "## Linear Regression\n",
    "\n",
    "# 선택된 피처로 train_test_split\n",
    "\n",
    "X_selected = df[selected_features]\n",
    "X_train, X_test, y_train, y_test = train_test_split(X_selected, df['y'], test_size=0.2, random_state=111)\n",
    "\n",
    "# model train\n",
    "model = LinearRegression()\n",
    "model.fit(X_train, y_train)\n",
    "\n",
    "# predict MSE\n",
    "y_pred = model.predict(X_test)\n",
    "mse_selected = mean_squared_error(y_test, y_pred)\n",
    "print('mse_selected', mse_selected)"
   ]
  },
  {
   "cell_type": "code",
   "execution_count": 15,
   "id": "fad9d098-ec69-4874-bab9-924de5592be2",
   "metadata": {},
   "outputs": [
    {
     "name": "stdout",
     "output_type": "stream",
     "text": [
      "mse_full 95.421146775663\n"
     ]
    }
   ],
   "source": [
    "## 전체 특성 데이터와 비교\n",
    "\n",
    "## Linear Regression\n",
    "# 데이터분할 전체 피처 사용\n",
    "X_full = df.drop(columns= ['y'])\n",
    "X_train_full, X_test_full, y_train_full, y_test_full = train_test_split(X_full, df['y'], test_size=0.2, random_state=111)\n",
    "\n",
    "# model train\n",
    "model = LinearRegression()\n",
    "model.fit(X_train_full, y_train_full)\n",
    "\n",
    "# predict MSE\n",
    "y_pred_full = model.predict(X_test_full)\n",
    "mse_full = mean_squared_error(y_test_full, y_pred_full)\n",
    "print('mse_full', mse_full)"
   ]
  },
  {
   "cell_type": "code",
   "execution_count": 31,
   "id": "a1171ec2-57e9-4564-8795-298c893eb04c",
   "metadata": {},
   "outputs": [
    {
     "data": {
      "text/plain": [
       "0.036148027099628166"
      ]
     },
     "execution_count": 31,
     "metadata": {},
     "output_type": "execute_result"
    }
   ],
   "source": [
    "95.45729480276263 - 95.421146775663 #선택 특성 mse - 전체 특성 mse"
   ]
  },
  {
   "cell_type": "code",
   "execution_count": 17,
   "id": "28417542-c3da-456b-a304-99c9324aa845",
   "metadata": {},
   "outputs": [],
   "source": [
    "## 특성 피처들 생성\n",
    "\n",
    "X1 = np.random.rand(n_samples) * 100 \n",
    "X2 = X1+np.random.rand(n_samples) * 10 # X1과 매우 높은 상관관계\n",
    "X3 = np.random.rand(n_samples) * 100 \n",
    "X4 = np.random.rand(n_samples) * 100 \n",
    "X_noise = np.random.rand(n_samples) * 100 \n",
    "\n",
    "# y는 X1, X2 강하게 의존하는 관계\n",
    "y = 3 *X1 + 2 * X3 +np.random.randn(n_samples) * 10"
   ]
  },
  {
   "cell_type": "code",
   "execution_count": 18,
   "id": "48c4148c-76c7-43fd-a83d-19ae4872b5d0",
   "metadata": {},
   "outputs": [],
   "source": [
    "df=pd.DataFrame({\n",
    "    'X1':X1,\n",
    "    'X2':X2,\n",
    "    'X3':X3,\n",
    "    'X4':X4,\n",
    "    'X_noise':X_noise,\n",
    "    'y':y\n",
    "})"
   ]
  },
  {
   "cell_type": "code",
   "execution_count": 19,
   "id": "b6e0e907-884e-4e94-af1f-f297662ed507",
   "metadata": {},
   "outputs": [],
   "source": [
    "import seaborn as sns"
   ]
  },
  {
   "cell_type": "code",
   "execution_count": 28,
   "id": "e38fd804-0ed1-4d60-8f13-a3c436410681",
   "metadata": {},
   "outputs": [
    {
     "name": "stdout",
     "output_type": "stream",
     "text": [
      "               X1        X2        X3        X4   X_noise\n",
      "X1       1.000000  0.994816  0.019450  0.061270  0.068796\n",
      "X2       0.994816  1.000000  0.015930  0.061432  0.069706\n",
      "X3       0.019450  0.015930  1.000000 -0.005993 -0.022998\n",
      "X4       0.061270  0.061432 -0.005993  1.000000  0.023701\n",
      "X_noise  0.068796  0.069706 -0.022998  0.023701  1.000000\n"
     ]
    }
   ],
   "source": [
    "## 상관관계를 확인\n",
    "\n",
    "#corr_matrix\n",
    "corr_matrix=df.drop(columns=['y']).corr()\n",
    "print(corr_matrix)"
   ]
  },
  {
   "cell_type": "code",
   "execution_count": 22,
   "id": "ac72d069-ae08-4e4e-8f30-30b73f24f617",
   "metadata": {},
   "outputs": [
    {
     "data": {
      "text/plain": [
       "<Axes: >"
      ]
     },
     "execution_count": 22,
     "metadata": {},
     "output_type": "execute_result"
    },
    {
     "data": {
      "image/png": "[encoded data removed]",
      "text/plain": [
       "<Figure size 1000x600 with 2 Axes>"
      ]
     },
     "metadata": {},
     "output_type": "display_data"
    }
   ],
   "source": [
    "## 히트맵 확인\n",
    "\n",
    "plt.figure(figsize=(10,6))\n",
    "sns.heatmap(corr_matrix, annot=True)"
   ]
  },
  {
   "cell_type": "code",
   "execution_count": 23,
   "id": "84246863-5999-4527-8ffb-85fdd3e1ea2f",
   "metadata": {},
   "outputs": [
    {
     "name": "stdout",
     "output_type": "stream",
     "text": [
      "               X1        X2        X3        X4   X_noise\n",
      "X1       1.000000  0.994816  0.019450  0.061270  0.068796\n",
      "X2       0.994816  1.000000  0.015930  0.061432  0.069706\n",
      "X3       0.019450  0.015930  1.000000 -0.005993 -0.022998\n",
      "X4       0.061270  0.061432 -0.005993  1.000000  0.023701\n",
      "X_noise  0.068796  0.069706 -0.022998  0.023701  1.000000\n"
     ]
    }
   ],
   "source": [
    "print(corr_matrix)"
   ]
  },
  {
   "cell_type": "code",
   "execution_count": 26,
   "id": "46954974-3576-416b-b3e7-b43a6d309341",
   "metadata": {},
   "outputs": [
    {
     "name": "stdout",
     "output_type": "stream",
     "text": [
      "{'X2'}\n"
     ]
    }
   ],
   "source": [
    "## 상관계수 threshold가 0.8 이상인 경우 제거가 필요함\n",
    "# X1, X2 사이 상관관계가 높다 -> 다중공선성의 문제 -> 같이 움직임(X1이 증가하면 X2도 증가, 선형 회귀에서 오차 계산 등에 큰 영향을 줌\n",
    "\n",
    "threshold = 0.8\n",
    "to_drop = set()\n",
    "\n",
    "# 상관계수가 0.8보다 높은 피처만 출력\n",
    "for i in range(len(corr_matrix.columns)):\n",
    "    for j in range(i):\n",
    "        if abs(corr_matrix.iloc[i,j]) > threshold:\n",
    "            to_drop.add(corr_matrix.columns[i])\n",
    "print(to_drop)\n",
    "\n",
    "# 원하는 피처만 제거\n",
    "X_reduced = df.drop(columns=list(to_drop)+['y'])\n",
    "\n",
    "X_train, X_test, y_train, y_test = train_test_split(X_reduced, df['y'], test_size=0.2, random_state=111)"
   ]
  },
  {
   "cell_type": "code",
   "execution_count": 29,
   "id": "45271b9e-1e66-4dc0-ac99-5d0f8026b636",
   "metadata": {},
   "outputs": [
    {
     "name": "stdout",
     "output_type": "stream",
     "text": [
      "mse_selected 106.62854977848927\n"
     ]
    }
   ],
   "source": [
    "# 상관계수가 높은 피처를 제거했을 때\n",
    "#모델학습\n",
    "model = LinearRegression()\n",
    "model.fit(X_train, y_train)\n",
    "\n",
    "#예측 MSE\n",
    "y_pred =model.predict(X_test)\n",
    "mse_selected =mean_squared_error(y_test, y_pred)\n",
    "print('mse_selected',mse_selected)"
   ]
  },
  {
   "cell_type": "code",
   "execution_count": 30,
   "id": "0eae55a7-6213-41b6-a2d2-bfe927073c02",
   "metadata": {},
   "outputs": [
    {
     "name": "stdout",
     "output_type": "stream",
     "text": [
      "mse_full 106.6654582533013\n"
     ]
    }
   ],
   "source": [
    "## 전체 피처가 다 들어간 경우\n",
    "#데이터 분할 _전체 피처로\n",
    "X_full = df.drop(columns = ['y'])\n",
    "X_train_full, X_test_full, y_train_full, y_test_full = train_test_split(X_full,df['y'],test_size=0.2,random_state=111)\n",
    "\n",
    "#모델학습\n",
    "model_full = LinearRegression()\n",
    "model_full.fit(X_train_full, y_train_full)\n",
    "\n",
    "#예측 MSE\n",
    "y_pred_full =model_full.predict(X_test_full)\n",
    "mse_full =mean_squared_error(y_test_full, y_pred_full)\n",
    "print('mse_full',mse_full)"
   ]
  },
  {
   "cell_type": "code",
   "execution_count": 32,
   "id": "610fb470-8559-44c3-8735-31e58707f025",
   "metadata": {},
   "outputs": [
    {
     "data": {
      "text/plain": [
       "-0.03690847481202297"
      ]
     },
     "execution_count": 32,
     "metadata": {},
     "output_type": "execute_result"
    }
   ],
   "source": [
    "106.62854977848927 - 106.6654582533013 # 선택 특성 mse - 전체 특성 mse"
   ]
  }
 ],
 "metadata": {
  "kernelspec": {
   "display_name": "Python 3 (ipykernel)",
   "language": "python",
   "name": "python3"
  },
  "language_info": {
   "codemirror_mode": {
    "name": "ipython",
    "version": 3
   },
   "file_extension": ".py",
   "mimetype": "text/x-python",
   "name": "python",
   "nbconvert_exporter": "python",
   "pygments_lexer": "ipython3",
   "version": "3.10.13"
  }
 },
 "nbformat": 4,
 "nbformat_minor": 5
}
