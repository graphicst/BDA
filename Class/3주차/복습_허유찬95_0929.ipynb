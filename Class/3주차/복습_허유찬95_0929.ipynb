{
 "cells": [
  {
   "cell_type": "code",
   "execution_count": 1,
   "id": "83c38868-189d-4b24-97f8-3fbc26654ffb",
   "metadata": {},
   "outputs": [],
   "source": [
    "## 분산 예시 코드\n",
    "from sklearn.feature_selection import VarianceThreshold\n",
    "\n",
    "X =[[0,2,0,3],\n",
    "    [0,1,2,3],\n",
    "    [0,1,1,5]]\n",
    "\n",
    "# 분산의 임계값을 0.2 (Threshold)\n",
    "\n",
    "selector = VarianceThreshold(threshold=0.2)\n",
    "X_high_variacne = selector.fit_transform(X)"
   ]
  },
  {
   "cell_type": "code",
   "execution_count": 2,
   "id": "822907a1-a5fb-42ed-9f38-63dfd4999a30",
   "metadata": {},
   "outputs": [
    {
     "data": {
      "text/plain": [
       "array([[2, 0, 3],\n",
       "       [1, 2, 3],\n",
       "       [1, 1, 5]])"
      ]
     },
     "execution_count": 2,
     "metadata": {},
     "output_type": "execute_result"
    }
   ],
   "source": [
    "X_high_variacne"
   ]
  },
  {
   "cell_type": "code",
   "execution_count": 3,
   "id": "174e5bae-6e75-48f3-88f2-2f42ba210c47",
   "metadata": {},
   "outputs": [],
   "source": [
    "from sklearn.feature_selection import SelectKBest, chi2\n",
    "import numpy as np"
   ]
  },
  {
   "cell_type": "code",
   "execution_count": 4,
   "id": "7c841307-f2a9-42b5-8721-16b58799c631",
   "metadata": {},
   "outputs": [],
   "source": [
    "X = np.array([[1,2,3],\n",
    "             [4,5,6],\n",
    "             [7,8,9],\n",
    "             [10,11,12]])\n",
    "y = np.array([0,1,0,1]) #타겟값 범주형 (생존률)"
   ]
  },
  {
   "cell_type": "code",
   "execution_count": 5,
   "id": "ac193ea6-05d2-45d9-b956-1bc5633e2005",
   "metadata": {},
   "outputs": [],
   "source": [
    "selector=SelectKBest(chi2, k=2)"
   ]
  },
  {
   "cell_type": "code",
   "execution_count": 6,
   "id": "33c7a68e-bc12-43bc-a792-e17f25b1d900",
   "metadata": {},
   "outputs": [],
   "source": [
    "X_new_sel = selector.fit_transform(X,y)"
   ]
  },
  {
   "cell_type": "code",
   "execution_count": 7,
   "id": "a6e62dcf-e70c-4d57-881d-cb6c92f974bd",
   "metadata": {},
   "outputs": [
    {
     "data": {
      "text/plain": [
       "array([[ 1,  2],\n",
       "       [ 4,  5],\n",
       "       [ 7,  8],\n",
       "       [10, 11]])"
      ]
     },
     "execution_count": 7,
     "metadata": {},
     "output_type": "execute_result"
    }
   ],
   "source": [
    "X_new_sel"
   ]
  },
  {
   "cell_type": "code",
   "execution_count": 8,
   "id": "33705f35-d4ac-47c4-8b8c-90947a7a9b5e",
   "metadata": {},
   "outputs": [],
   "source": [
    "## 타이타닉 데이터로 Feature Selection\n",
    "\n",
    "import seaborn as sns\n",
    "import pandas as pd\n",
    "from sklearn.preprocessing import OneHotEncoder\n",
    "import matplotlib.pyplot as plt"
   ]
  },
  {
   "cell_type": "code",
   "execution_count": 9,
   "id": "3bc65718-9dea-438a-830e-54463aeb9793",
   "metadata": {},
   "outputs": [],
   "source": [
    "tt = sns.load_dataset('titanic')"
   ]
  },
  {
   "cell_type": "code",
   "execution_count": 10,
   "id": "322a88bf-b82a-4b0b-8803-3332b92fbd92",
   "metadata": {},
   "outputs": [
    {
     "name": "stderr",
     "output_type": "stream",
     "text": [
      "C:\\Users\\yc_hur\\AppData\\Local\\Temp\\ipykernel_13428\\3912462599.py:2: FutureWarning: A value is trying to be set on a copy of a DataFrame or Series through chained assignment using an inplace method.\n",
      "The behavior will change in pandas 3.0. This inplace method will never work because the intermediate object on which we are setting values always behaves as a copy.\n",
      "\n",
      "For example, when doing 'df[col].method(value, inplace=True)', try using 'df.method({col: value}, inplace=True)' or df[col] = df[col].method(value) instead, to perform the operation inplace on the original object.\n",
      "\n",
      "\n",
      "  tt['age'].fillna(tt['age'].median(), inplace=True)\n",
      "C:\\Users\\yc_hur\\AppData\\Local\\Temp\\ipykernel_13428\\3912462599.py:3: FutureWarning: A value is trying to be set on a copy of a DataFrame or Series through chained assignment using an inplace method.\n",
      "The behavior will change in pandas 3.0. This inplace method will never work because the intermediate object on which we are setting values always behaves as a copy.\n",
      "\n",
      "For example, when doing 'df[col].method(value, inplace=True)', try using 'df.method({col: value}, inplace=True)' or df[col] = df[col].method(value) instead, to perform the operation inplace on the original object.\n",
      "\n",
      "\n",
      "  tt['embark_town'].fillna(tt['embark_town'].mode()[0], inplace=True)\n",
      "C:\\Users\\yc_hur\\AppData\\Local\\Temp\\ipykernel_13428\\3912462599.py:4: FutureWarning: A value is trying to be set on a copy of a DataFrame or Series through chained assignment using an inplace method.\n",
      "The behavior will change in pandas 3.0. This inplace method will never work because the intermediate object on which we are setting values always behaves as a copy.\n",
      "\n",
      "For example, when doing 'df[col].method(value, inplace=True)', try using 'df.method({col: value}, inplace=True)' or df[col] = df[col].method(value) instead, to perform the operation inplace on the original object.\n",
      "\n",
      "\n",
      "  tt['fare'].fillna(tt['fare'].median(), inplace=True)\n"
     ]
    }
   ],
   "source": [
    "# 결측치 처리\n",
    "tt['age'].fillna(tt['age'].median(), inplace=True)\n",
    "tt['embark_town'].fillna(tt['embark_town'].mode()[0], inplace=True)\n",
    "tt['fare'].fillna(tt['fare'].median(), inplace=True)"
   ]
  },
  {
   "cell_type": "code",
   "execution_count": 11,
   "id": "bb81973c-cbe3-4cbf-ba5b-52c137aac56a",
   "metadata": {},
   "outputs": [
    {
     "data": {
      "text/plain": [
       "survived         0\n",
       "pclass           0\n",
       "sex              0\n",
       "age              0\n",
       "sibsp            0\n",
       "parch            0\n",
       "fare             0\n",
       "embarked         2\n",
       "class            0\n",
       "who              0\n",
       "adult_male       0\n",
       "deck           688\n",
       "embark_town      0\n",
       "alive            0\n",
       "alone            0\n",
       "dtype: int64"
      ]
     },
     "execution_count": 11,
     "metadata": {},
     "output_type": "execute_result"
    }
   ],
   "source": [
    "tt.isnull().sum()"
   ]
  },
  {
   "cell_type": "code",
   "execution_count": 12,
   "id": "3758972f-8159-4c4d-967f-158d528a5628",
   "metadata": {},
   "outputs": [],
   "source": [
    "# 사용할 피처 정리\n",
    "\n",
    "X = tt[['pclass', 'sex', 'age', 'fare', 'embark_town']]\n",
    "y = tt['survived']"
   ]
  },
  {
   "cell_type": "code",
   "execution_count": 13,
   "id": "fbb005f4-2af5-4cd6-8f19-ea74b3f444ce",
   "metadata": {},
   "outputs": [
    {
     "name": "stderr",
     "output_type": "stream",
     "text": [
      "C:\\Users\\yc_hur\\AppData\\Local\\Temp\\ipykernel_13428\\2265949115.py:4: SettingWithCopyWarning: \n",
      "A value is trying to be set on a copy of a slice from a DataFrame.\n",
      "Try using .loc[row_indexer,col_indexer] = value instead\n",
      "\n",
      "See the caveats in the documentation: https://pandas.pydata.org/pandas-docs/stable/user_guide/indexing.html#returning-a-view-versus-a-copy\n",
      "  X.loc[:, 'age_binned']=pd.qcut(X['age'], q=4, labels=False)\n",
      "C:\\Users\\yc_hur\\AppData\\Local\\Temp\\ipykernel_13428\\2265949115.py:5: SettingWithCopyWarning: \n",
      "A value is trying to be set on a copy of a slice from a DataFrame.\n",
      "Try using .loc[row_indexer,col_indexer] = value instead\n",
      "\n",
      "See the caveats in the documentation: https://pandas.pydata.org/pandas-docs/stable/user_guide/indexing.html#returning-a-view-versus-a-copy\n",
      "  X.loc[:, 'fare_binned']=pd.qcut(X['age'], q=4, labels=False)\n"
     ]
    }
   ],
   "source": [
    "## 연속형 범주를 범주형으로\n",
    "## qcut을 통해 분위수로 (4분위)\n",
    "\n",
    "X.loc[:, 'age_binned']=pd.qcut(X['age'], q=4, labels=False)\n",
    "X.loc[:, 'fare_binned']=pd.qcut(X['age'], q=4, labels=False)"
   ]
  },
  {
   "cell_type": "code",
   "execution_count": 14,
   "id": "761b8616-3a0e-433c-ba9a-a46e91044f00",
   "metadata": {},
   "outputs": [],
   "source": [
    "# 원핫인코더를 잡아 진행\n",
    "\n",
    "X = X.drop(['age','fare'], axis=1)\n",
    "onehot_encoder = OneHotEncoder(sparse_output=False, drop='first') #sparse_outpu=False는 희소행렬 대신 밀집행렬을 반환, drop='first를 통해 첫 범주 삭제(다중공선성)"
   ]
  },
  {
   "cell_type": "code",
   "execution_count": 15,
   "id": "2c51605f-584d-4947-8a87-f541fe596d94",
   "metadata": {},
   "outputs": [],
   "source": [
    "X_encoded = onehot_encoder.fit_transform(X)"
   ]
  },
  {
   "cell_type": "code",
   "execution_count": 16,
   "id": "70d9f47d-2d1a-4fce-a5ab-43b3ca28d8e0",
   "metadata": {},
   "outputs": [
    {
     "data": {
      "text/plain": [
       "array([[0., 1., 1., ..., 0., 0., 0.],\n",
       "       [0., 0., 0., ..., 0., 0., 1.],\n",
       "       [0., 1., 0., ..., 1., 0., 0.],\n",
       "       ...,\n",
       "       [0., 1., 0., ..., 1., 0., 0.],\n",
       "       [0., 0., 1., ..., 1., 0., 0.],\n",
       "       [0., 1., 1., ..., 0., 1., 0.]])"
      ]
     },
     "execution_count": 16,
     "metadata": {},
     "output_type": "execute_result"
    }
   ],
   "source": [
    "X_encoded"
   ]
  },
  {
   "cell_type": "code",
   "execution_count": 17,
   "id": "c9c65cc7-9ce8-48b3-a24a-c48ceaccd2be",
   "metadata": {},
   "outputs": [],
   "source": [
    "## 카이제곱 검정 수행\n",
    "\n",
    "chi_selector = SelectKBest(chi2, k='all')"
   ]
  },
  {
   "cell_type": "code",
   "execution_count": 18,
   "id": "3f738475-0ad8-4da2-8a64-385e0880640c",
   "metadata": {},
   "outputs": [],
   "source": [
    "# feature_selection으로 학습\n",
    "\n",
    "X_selected_all = chi_selector.fit_transform(X_encoded, y)"
   ]
  },
  {
   "cell_type": "code",
   "execution_count": 19,
   "id": "06cd9de5-77fd-4433-acec-86e8bec58b7c",
   "metadata": {},
   "outputs": [],
   "source": [
    "chi_scores = pd.DataFrame({\n",
    "    'Feature': onehot_encoder.get_feature_names_out(X.columns),\n",
    "    'Score': chi_selector.scores_}).sort_values(by='Score', ascending=True)"
   ]
  },
  {
   "cell_type": "code",
   "execution_count": 20,
   "id": "2c35ac20-eaba-47df-813c-636a98484ea9",
   "metadata": {},
   "outputs": [
    {
     "data": {
      "text/html": [
       "<div>\n",
       "<style scoped>\n",
       "    .dataframe tbody tr th:only-of-type {\n",
       "        vertical-align: middle;\n",
       "    }\n",
       "\n",
       "    .dataframe tbody tr th {\n",
       "        vertical-align: top;\n",
       "    }\n",
       "\n",
       "    .dataframe thead th {\n",
       "        text-align: right;\n",
       "    }\n",
       "</style>\n",
       "<table border=\"1\" class=\"dataframe\">\n",
       "  <thead>\n",
       "    <tr style=\"text-align: right;\">\n",
       "      <th></th>\n",
       "      <th>Feature</th>\n",
       "      <th>Score</th>\n",
       "    </tr>\n",
       "  </thead>\n",
       "  <tbody>\n",
       "    <tr>\n",
       "      <th>7</th>\n",
       "      <td>age_binned_3</td>\n",
       "      <td>0.001672</td>\n",
       "    </tr>\n",
       "    <tr>\n",
       "      <th>10</th>\n",
       "      <td>fare_binned_3</td>\n",
       "      <td>0.001672</td>\n",
       "    </tr>\n",
       "    <tr>\n",
       "      <th>3</th>\n",
       "      <td>embark_town_Queenstown</td>\n",
       "      <td>0.010847</td>\n",
       "    </tr>\n",
       "    <tr>\n",
       "      <th>6</th>\n",
       "      <td>age_binned_2</td>\n",
       "      <td>1.615444</td>\n",
       "    </tr>\n",
       "    <tr>\n",
       "      <th>9</th>\n",
       "      <td>fare_binned_2</td>\n",
       "      <td>1.615444</td>\n",
       "    </tr>\n",
       "    <tr>\n",
       "      <th>5</th>\n",
       "      <td>age_binned_1</td>\n",
       "      <td>3.612659</td>\n",
       "    </tr>\n",
       "    <tr>\n",
       "      <th>8</th>\n",
       "      <td>fare_binned_1</td>\n",
       "      <td>3.612659</td>\n",
       "    </tr>\n",
       "    <tr>\n",
       "      <th>4</th>\n",
       "      <td>embark_town_Southampton</td>\n",
       "      <td>5.489205</td>\n",
       "    </tr>\n",
       "    <tr>\n",
       "      <th>0</th>\n",
       "      <td>pclass_2</td>\n",
       "      <td>6.160767</td>\n",
       "    </tr>\n",
       "    <tr>\n",
       "      <th>1</th>\n",
       "      <td>pclass_3</td>\n",
       "      <td>41.553071</td>\n",
       "    </tr>\n",
       "    <tr>\n",
       "      <th>2</th>\n",
       "      <td>sex_male</td>\n",
       "      <td>92.702447</td>\n",
       "    </tr>\n",
       "  </tbody>\n",
       "</table>\n",
       "</div>"
      ],
      "text/plain": [
       "                    Feature      Score\n",
       "7              age_binned_3   0.001672\n",
       "10            fare_binned_3   0.001672\n",
       "3    embark_town_Queenstown   0.010847\n",
       "6              age_binned_2   1.615444\n",
       "9             fare_binned_2   1.615444\n",
       "5              age_binned_1   3.612659\n",
       "8             fare_binned_1   3.612659\n",
       "4   embark_town_Southampton   5.489205\n",
       "0                  pclass_2   6.160767\n",
       "1                  pclass_3  41.553071\n",
       "2                  sex_male  92.702447"
      ]
     },
     "execution_count": 20,
     "metadata": {},
     "output_type": "execute_result"
    }
   ],
   "source": [
    "chi_scores"
   ]
  },
  {
   "cell_type": "code",
   "execution_count": 21,
   "id": "64d5f1a9-35bf-468f-a6c6-1884f8485066",
   "metadata": {},
   "outputs": [],
   "source": [
    "# 상위 2개만 고르기!\n",
    "\n",
    "chi_selector = SelectKBest(chi2, k=2)\n",
    "X_selected = chi_selector.fit_transform(X_encoded, y)"
   ]
  },
  {
   "cell_type": "code",
   "execution_count": 22,
   "id": "25498665-fcd5-4dd6-82c2-4563429f5bf3",
   "metadata": {},
   "outputs": [],
   "source": [
    "# 선택된 피쳐들의 점수 산출\n",
    "\n",
    "selected_indices = chi_selector.get_support(indices=True)\n",
    "selected_features = onehot_encoder.get_feature_names_out(X.columns)[selected_indices]\n",
    "selected_scores = chi_selector.scores_[selected_indices]"
   ]
  },
  {
   "cell_type": "code",
   "execution_count": 23,
   "id": "8c044e6b-fa76-41f9-83a4-61527728c6e1",
   "metadata": {},
   "outputs": [
    {
     "data": {
      "text/plain": [
       "<BarContainer object of 11 artists>"
      ]
     },
     "execution_count": 23,
     "metadata": {},
     "output_type": "execute_result"
    },
    {
     "data": {
      "image/png": "[encoded data removed]",
      "text/plain": [
       "<Figure size 800x400 with 1 Axes>"
      ]
     },
     "metadata": {},
     "output_type": "display_data"
    }
   ],
   "source": [
    "# 간단한 시각화\n",
    "\n",
    "plt.figure(figsize=(8, 4))\n",
    "plt.barh(chi_scores['Feature'], chi_scores['Score'], color='lightgreen')"
   ]
  },
  {
   "cell_type": "code",
   "execution_count": 24,
   "id": "0441dfd4-68c5-4f68-ac20-ab90dd0a6f63",
   "metadata": {},
   "outputs": [
    {
     "data": {
      "text/plain": [
       "<BarContainer object of 2 artists>"
      ]
     },
     "execution_count": 24,
     "metadata": {},
     "output_type": "execute_result"
    },
    {
     "data": {
      "image/png": "[encoded data removed]",
      "text/plain": [
       "<Figure size 800x400 with 1 Axes>"
      ]
     },
     "metadata": {},
     "output_type": "display_data"
    }
   ],
   "source": [
    "##간단한 시각화\n",
    "\n",
    "plt.figure(figsize=(8,4))\n",
    "plt.barh(selected_features, selected_scores, color='lightblue')"
   ]
  }
 ],
 "metadata": {
  "kernelspec": {
   "display_name": "Python 3 (ipykernel)",
   "language": "python",
   "name": "python3"
  },
  "language_info": {
   "codemirror_mode": {
    "name": "ipython",
    "version": 3
   },
   "file_extension": ".py",
   "mimetype": "text/x-python",
   "name": "python",
   "nbconvert_exporter": "python",
   "pygments_lexer": "ipython3",
   "version": "3.10.13"
  }
 },
 "nbformat": 4,
 "nbformat_minor": 5
}
